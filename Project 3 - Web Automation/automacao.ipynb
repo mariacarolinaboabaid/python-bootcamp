{
 "cells": [
  {
   "cell_type": "code",
   "execution_count": 110,
   "id": "56068b21",
   "metadata": {},
   "outputs": [],
   "source": [
    "# IMPORTES\n",
    "from selenium import webdriver\n",
    "from selenium.webdriver.common.keys import Keys\n",
    "import pandas as pd"
   ]
  },
  {
   "cell_type": "code",
   "execution_count": 111,
   "id": "bbff3707",
   "metadata": {},
   "outputs": [],
   "source": [
    "# PASSO 1: Criar o navegador \n",
    "\n",
    "nav = webdriver.Chrome()\n",
    "\n",
    "# Código para que não apareça o navegador enquanto o programa roda\n",
    "from selenium.webdriver.chrome.options import Options\n",
    "chrome_options = Options()\n",
    "chrome_options.headless = True\n",
    "nav = webdriver.Chrome(options=chrome_options)"
   ]
  },
  {
   "cell_type": "code",
   "execution_count": 112,
   "id": "56fad2a5",
   "metadata": {},
   "outputs": [
    {
     "name": "stdout",
     "output_type": "stream",
     "text": [
      "5.117999999999999\n"
     ]
    }
   ],
   "source": [
    "# PASSO 2: Pegar cotação do dólar\n",
    "\n",
    "nav.get('https://www.google.com.br/')\n",
    "\n",
    "# O 'xpath' precisa estar com aspas simples, pois seu texto pode conter aspas duplas\n",
    "nav.find_element('xpath', \n",
    "                 '/html/body/div[1]/div[3]/form/div[1]/div[1]/div[1]/div/div[2]/input ').send_keys('cotação dólar')\n",
    "\n",
    "nav.find_element('xpath', \n",
    "                 '/html/body/div[1]/div[3]/form/div[1]/div[1]/div[1]/div/div[2]/input ').send_keys(Keys.ENTER)\n",
    "\n",
    "dolar = nav.find_element('xpath', '//*[@id=\"knowledge-currency__updatable-data-column\"]/div[1]/div[2]/span[1]').get_attribute('data-value')\n",
    "\n",
    "print(dolar)\n"
   ]
  },
  {
   "cell_type": "code",
   "execution_count": 113,
   "id": "e02ac7b4",
   "metadata": {},
   "outputs": [
    {
     "name": "stdout",
     "output_type": "stream",
     "text": [
      "5.5466999999999995\n"
     ]
    }
   ],
   "source": [
    "# PASSO 3: Pegar cotação do euro\n",
    "\n",
    "nav.get('https://www.google.com.br/')\n",
    "\n",
    "nav.find_element('xpath', \n",
    "                 '/html/body/div[1]/div[3]/form/div[1]/div[1]/div[1]/div/div[2]/input ').send_keys('cotação euro')\n",
    "\n",
    "nav.find_element('xpath', \n",
    "                 '/html/body/div[1]/div[3]/form/div[1]/div[1]/div[1]/div/div[2]/input ').send_keys(Keys.ENTER)\n",
    "\n",
    "euro = nav.find_element('xpath', '//*[@id=\"knowledge-currency__updatable-data-column\"]/div[1]/div[2]/span[1]').get_attribute('data-value')\n",
    "\n",
    "print(euro)\n"
   ]
  },
  {
   "cell_type": "code",
   "execution_count": 114,
   "id": "6bf3be8a",
   "metadata": {},
   "outputs": [
    {
     "name": "stdout",
     "output_type": "stream",
     "text": [
      "313.66\n"
     ]
    }
   ],
   "source": [
    "# PASSO 4: Pegar cotação do ouro\n",
    "\n",
    "nav.get('https://www.melhorcambio.com/ouro-hoje')\n",
    "\n",
    "ouro = nav.find_element('xpath', '//*[@id=\"comercial\"]').get_attribute('value')\n",
    "\n",
    "ouro = ouro.replace(',', '.')\n",
    "\n",
    "print(ouro)\n"
   ]
  },
  {
   "cell_type": "code",
   "execution_count": 115,
   "id": "4d9fc048",
   "metadata": {},
   "outputs": [],
   "source": [
    "# PASSO 5: Fechar o navegador\n",
    "\n",
    "nav.quit()"
   ]
  },
  {
   "cell_type": "code",
   "execution_count": 121,
   "id": "98607aa5",
   "metadata": {},
   "outputs": [
    {
     "data": {
      "text/html": [
       "<div>\n",
       "<style scoped>\n",
       "    .dataframe tbody tr th:only-of-type {\n",
       "        vertical-align: middle;\n",
       "    }\n",
       "\n",
       "    .dataframe tbody tr th {\n",
       "        vertical-align: top;\n",
       "    }\n",
       "\n",
       "    .dataframe thead th {\n",
       "        text-align: right;\n",
       "    }\n",
       "</style>\n",
       "<table border=\"1\" class=\"dataframe\">\n",
       "  <thead>\n",
       "    <tr style=\"text-align: right;\">\n",
       "      <th></th>\n",
       "      <th>Produtos</th>\n",
       "      <th>Preço Original</th>\n",
       "      <th>Moeda</th>\n",
       "      <th>Cotação</th>\n",
       "      <th>Preço de Compra</th>\n",
       "      <th>Margem</th>\n",
       "      <th>Preço de Venda</th>\n",
       "    </tr>\n",
       "  </thead>\n",
       "  <tbody>\n",
       "    <tr>\n",
       "      <th>0</th>\n",
       "      <td>Câmera Canon</td>\n",
       "      <td>999.99</td>\n",
       "      <td>Dólar</td>\n",
       "      <td>R$ 5.12</td>\n",
       "      <td>R$ 5117.95</td>\n",
       "      <td>1.40</td>\n",
       "      <td>R$ 7165.13</td>\n",
       "    </tr>\n",
       "    <tr>\n",
       "      <th>1</th>\n",
       "      <td>Carro Renault</td>\n",
       "      <td>4500.00</td>\n",
       "      <td>Euro</td>\n",
       "      <td>R$ 5.55</td>\n",
       "      <td>R$ 24960.15</td>\n",
       "      <td>2.00</td>\n",
       "      <td>R$ 49920.30</td>\n",
       "    </tr>\n",
       "    <tr>\n",
       "      <th>2</th>\n",
       "      <td>Notebook Dell</td>\n",
       "      <td>899.99</td>\n",
       "      <td>Dólar</td>\n",
       "      <td>R$ 5.12</td>\n",
       "      <td>R$ 4606.15</td>\n",
       "      <td>1.70</td>\n",
       "      <td>R$ 7830.45</td>\n",
       "    </tr>\n",
       "    <tr>\n",
       "      <th>3</th>\n",
       "      <td>IPhone</td>\n",
       "      <td>799.00</td>\n",
       "      <td>Dólar</td>\n",
       "      <td>R$ 5.12</td>\n",
       "      <td>R$ 4089.28</td>\n",
       "      <td>1.70</td>\n",
       "      <td>R$ 6951.78</td>\n",
       "    </tr>\n",
       "    <tr>\n",
       "      <th>4</th>\n",
       "      <td>Carro Fiat</td>\n",
       "      <td>3000.00</td>\n",
       "      <td>Euro</td>\n",
       "      <td>R$ 5.55</td>\n",
       "      <td>R$ 16640.10</td>\n",
       "      <td>1.90</td>\n",
       "      <td>R$ 31616.19</td>\n",
       "    </tr>\n",
       "    <tr>\n",
       "      <th>5</th>\n",
       "      <td>Celular Xiaomi</td>\n",
       "      <td>480.48</td>\n",
       "      <td>Dólar</td>\n",
       "      <td>R$ 5.12</td>\n",
       "      <td>R$ 2459.10</td>\n",
       "      <td>2.00</td>\n",
       "      <td>R$ 4918.19</td>\n",
       "    </tr>\n",
       "    <tr>\n",
       "      <th>6</th>\n",
       "      <td>Joia 20g</td>\n",
       "      <td>20.00</td>\n",
       "      <td>Ouro</td>\n",
       "      <td>R$ 313.66</td>\n",
       "      <td>R$ 6273.20</td>\n",
       "      <td>1.15</td>\n",
       "      <td>R$ 7214.18</td>\n",
       "    </tr>\n",
       "  </tbody>\n",
       "</table>\n",
       "</div>"
      ],
      "text/plain": [
       "         Produtos  Preço Original  Moeda    Cotação Preço de Compra  Margem  \\\n",
       "0    Câmera Canon          999.99  Dólar    R$ 5.12      R$ 5117.95    1.40   \n",
       "1   Carro Renault         4500.00   Euro    R$ 5.55     R$ 24960.15    2.00   \n",
       "2   Notebook Dell          899.99  Dólar    R$ 5.12      R$ 4606.15    1.70   \n",
       "3          IPhone          799.00  Dólar    R$ 5.12      R$ 4089.28    1.70   \n",
       "4      Carro Fiat         3000.00   Euro    R$ 5.55     R$ 16640.10    1.90   \n",
       "5  Celular Xiaomi          480.48  Dólar    R$ 5.12      R$ 2459.10    2.00   \n",
       "6        Joia 20g           20.00   Ouro  R$ 313.66      R$ 6273.20    1.15   \n",
       "\n",
       "  Preço de Venda  \n",
       "0     R$ 7165.13  \n",
       "1    R$ 49920.30  \n",
       "2     R$ 7830.45  \n",
       "3     R$ 6951.78  \n",
       "4    R$ 31616.19  \n",
       "5     R$ 4918.19  \n",
       "6     R$ 7214.18  "
      ]
     },
     "metadata": {},
     "output_type": "display_data"
    }
   ],
   "source": [
    "# PASSO 6: Atualizar base de dados\n",
    "\n",
    "dados = pd.read_excel('Produtos.xlsx')\n",
    "\n",
    "# Atualização da cotação \n",
    "dados.loc[dados['Moeda'] == 'Dólar', 'Cotação'] = float(dolar)\n",
    "dados.loc[dados['Moeda'] == 'Euro', 'Cotação'] = float(euro)\n",
    "dados.loc[dados['Moeda'] == 'Ouro', 'Cotação'] = float(ouro)\n",
    "\n",
    "# Atualizando o preço de compra \n",
    "dados['Preço de Compra'] = dados['Cotação'] * dados['Preço Original']\n",
    "\n",
    "# Atualizando o preço de venda\n",
    "dados['Preço de Venda'] = dados['Preço de Compra'] * dados['Margem']\n",
    "\n",
    "# Formatação\n",
    "dados['Cotação'] = dados['Cotação'].map('R$ {:.2f}'.format)\n",
    "dados['Preço de Compra'] = dados['Preço de Compra'].map('R$ {:.2f}'.format)\n",
    "dados['Preço de Venda'] = dados['Preço de Venda'].map('R$ {:.2f}'.format)\n",
    "\n",
    "display(dados)"
   ]
  },
  {
   "cell_type": "code",
   "execution_count": 123,
   "id": "c9be9304",
   "metadata": {},
   "outputs": [],
   "source": [
    "# PASSO 7: Exportando a base de dados\n",
    "\n",
    "dados.to_excel('Produtos Atualizados.xlsx', index=False)"
   ]
  }
 ],
 "metadata": {
  "kernelspec": {
   "display_name": "Python 3 (ipykernel)",
   "language": "python",
   "name": "python3"
  },
  "language_info": {
   "codemirror_mode": {
    "name": "ipython",
    "version": 3
   },
   "file_extension": ".py",
   "mimetype": "text/x-python",
   "name": "python",
   "nbconvert_exporter": "python",
   "pygments_lexer": "ipython3",
   "version": "3.9.13"
  }
 },
 "nbformat": 4,
 "nbformat_minor": 5
}
