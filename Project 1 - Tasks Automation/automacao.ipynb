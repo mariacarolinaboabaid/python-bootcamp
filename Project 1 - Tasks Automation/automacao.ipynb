{
 "cells": [
  {
   "cell_type": "code",
   "execution_count": 11,
   "id": "73180832",
   "metadata": {},
   "outputs": [],
   "source": [
    "# IMPORTES\n",
    "import pyautogui \n",
    "import pyperclip\n",
    "import pandas\n",
    "import time\n",
    "from pynput.mouse import Button, Controller"
   ]
  },
  {
   "cell_type": "code",
   "execution_count": 12,
   "id": "849d33f5",
   "metadata": {},
   "outputs": [],
   "source": [
    "# PASSO 1: Entrar no sistema da empresa (drive)\n",
    "\n",
    "# Configuração para pausa de 1 segundo após cada comando\n",
    "pyautogui.PAUSE = 1\n",
    "\n",
    "# Abrindo uma nova aba\n",
    "pyautogui.hotkey('command', 't')\n",
    "\n",
    "# Corrigindo os caracteres especiais do link\n",
    "pyperclip.copy('https://drive.google.com/drive/folders/149xknr9JvrlEnhNWO49zPcw0PW5icxga?usp=sharing')\n",
    "# Copiando o link corrigido\n",
    "pyautogui.hotkey('command', 'v')\n",
    "\n",
    "pyautogui.press('enter')"
   ]
  },
  {
   "cell_type": "code",
   "execution_count": 13,
   "id": "28006f9b",
   "metadata": {},
   "outputs": [],
   "source": [
    "# PASSO 2: Entrar na pasta 'Exportar' do drive \n",
    "mouse = Controller()\n",
    "\n",
    "# Tempo para carregamento da página \n",
    "time.sleep(3)\n",
    "\n",
    "# Click pasta 'Exportar'\n",
    "pyautogui.moveTo(x=302, y=292)\n",
    "mouse.click(Button.left, 2)\n",
    "\n",
    "# Tempo para carregamento da página \n",
    "time.sleep(3)\n",
    "\n",
    "# Click download do documento\n",
    "pyautogui.click(x=302, y=292)\n",
    "pyautogui.click(x=1276, y=197)\n",
    "pyautogui.click(x=1132, y=521)\n",
    "\n",
    "# Tempo para o download\n",
    "time.sleep(10)"
   ]
  },
  {
   "cell_type": "code",
   "execution_count": 14,
   "id": "2121ff54",
   "metadata": {
    "scrolled": true
   },
   "outputs": [],
   "source": [
    "# PASSO 3: Abrir o documento e fazer cálculo de faturamento e quantidade de produtos\n",
    "\n",
    "# O 'r' é para informar que o texto é cru, sem caracteres especiais\n",
    "tabela = pandas.read_excel(r'/Users/mariacarolinaboabaid/Downloads/Vendas - Dez.xlsx')\n",
    "\n",
    "faturamento = tabela['Valor Final'].sum()\n",
    "quantidade_produtos = tabela['Quantidade'].sum()"
   ]
  },
  {
   "cell_type": "code",
   "execution_count": 15,
   "id": "8f0be53f",
   "metadata": {},
   "outputs": [],
   "source": [
    "# PASSO 4: Enviar e-mail para a diretoria \n",
    "\n",
    "# Configuração para pausa de 1 segundo após cada comando\n",
    "pyautogui.PAUSE = 1\n",
    "\n",
    "# Nova aba \n",
    "pyautogui.hotkey('command', 't')\n",
    "\n",
    "# Corrigindo os caracteres especiais do link\n",
    "pyperclip.copy('https://mail.google.com/mail/u/0/#inbox')\n",
    "# Copiando o link corrigido\n",
    "pyautogui.hotkey('command', 'v')\n",
    "pyautogui.press('enter')\n",
    "\n",
    "# Tempo para carregamento da página \n",
    "time.sleep(3)\n",
    "\n",
    "# Clicar no botão 'Escrever'\n",
    "pyautogui.position()\n",
    "pyautogui.click(x=32, y=236)\n",
    "\n",
    "# Passando as informações do e-mail\n",
    "pyautogui.write('carolkboabaid@gmail.com')\n",
    "pyautogui.press('tab')\n",
    "pyautogui.press('tab')\n",
    "\n",
    "# Corrigindo os caracteres especiais do assunto\n",
    "pyperclip.copy('Relatório de Vendas')\n",
    "pyautogui.hotkey('command', 'v')\n",
    "pyautogui.press('tab')\n",
    "\n",
    "\n",
    "# Corpo do e-mail\n",
    "corpo_email = f'''Prezados, bom dia!\n",
    "O faturamento de ontem foi de R$ {faturamento:,.2f}.\n",
    "A quantidade de produtos vendidos foi de R$ {quantidade_produtos:,.2f}.\n",
    "Abraços,\n",
    "Maria Carolina Knudsen Boabaid'''\n",
    "\n",
    "# Corrigindo os caracteres especiais do corpo do e-mail\n",
    "pyperclip.copy(corpo_email)\n",
    "# Copiando o link corrigido\n",
    "pyautogui.hotkey('command', 'v')\n",
    "\n",
    "# Enviando\n",
    "pyautogui.hotkey('command', 'enter')"
   ]
  }
 ],
 "metadata": {
  "kernelspec": {
   "display_name": "Python 3",
   "language": "python",
   "name": "python3"
  },
  "language_info": {
   "codemirror_mode": {
    "name": "ipython",
    "version": 3
   },
   "file_extension": ".py",
   "mimetype": "text/x-python",
   "name": "python",
   "nbconvert_exporter": "python",
   "pygments_lexer": "ipython3",
   "version": "3.11.0 (v3.11.0:deaf509e8f, Oct 24 2022, 14:43:23) [Clang 13.0.0 (clang-1300.0.29.30)]"
  },
  "vscode": {
   "interpreter": {
    "hash": "aee8b7b246df8f9039afb4144a1f6fd8d2ca17a180786b69acc140d282b71a49"
   }
  }
 },
 "nbformat": 4,
 "nbformat_minor": 5
}
